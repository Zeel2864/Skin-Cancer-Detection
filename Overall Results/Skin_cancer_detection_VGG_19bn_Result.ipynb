{
  "nbformat": 4,
  "nbformat_minor": 0,
  "metadata": {
    "language_info": {
      "codemirror_mode": {
        "name": "ipython",
        "version": 3
      },
      "file_extension": ".py",
      "mimetype": "text/x-python",
      "name": "python",
      "nbconvert_exporter": "python",
      "pygments_lexer": "ipython3",
      "version": "3.8.2-final"
    },
    "orig_nbformat": 2,
    "kernelspec": {
      "name": "python38264bit2192a74fbe504b1abaaa4085d0704b4c",
      "display_name": "Python 3.8.2 64-bit"
    },
    "colab": {
      "name": "Skin_cancer_detection_VGG-19_Result.ipynb",
      "provenance": [],
      "collapsed_sections": []
    },
    "accelerator": "GPU"
  },
  "cells": [
    {
      "cell_type": "code",
      "metadata": {
        "id": "1jEgOz_OPP6N",
        "colab_type": "code",
        "colab": {}
      },
      "source": [
        "import torch\n",
        "from torchvision import datasets,transforms as T,models\n",
        "from torch.utils.data import DataLoader\n",
        "import numpy as np \n",
        "from collections import OrderedDict\n",
        "from torch import optim,nn\n",
        "import matplotlib.pyplot as plt \n",
        "import torch.nn.functional as F "
      ],
      "execution_count": 15,
      "outputs": []
    },
    {
      "cell_type": "code",
      "metadata": {
        "id": "P2NnaacrPP6S",
        "colab_type": "code",
        "colab": {}
      },
      "source": [
        "train_dir = '/content/drive/My Drive/data/train'\n",
        "valid_dir = '/content/drive/My Drive/data/valid'\n",
        "test_dir = '/content/drive/My Drive/data/test'"
      ],
      "execution_count": 16,
      "outputs": []
    },
    {
      "cell_type": "code",
      "metadata": {
        "id": "qvg6OOHSPP6W",
        "colab_type": "code",
        "colab": {}
      },
      "source": [
        "train_transform = T.Compose([\n",
        "    T.Resize((256,256)),\n",
        "    T.CenterCrop(224),\n",
        "    T.ToTensor(),\n",
        "    T.Normalize((0.485, 0.456, 0.406), (0.229, 0.224, 0.225))])\n",
        "\n",
        "\n",
        "valid_transform = T.Compose([\n",
        "    T.Resize((256,256)),\n",
        "    T.CenterCrop(224),\n",
        "    T.ToTensor(),\n",
        "    T.Normalize((0.485, 0.456, 0.406), (0.229, 0.224, 0.225))\n",
        "])\n",
        "\n",
        "test_transfrom = valid_transform"
      ],
      "execution_count": 17,
      "outputs": []
    },
    {
      "cell_type": "code",
      "metadata": {
        "id": "oc8Ue59pPP6a",
        "colab_type": "code",
        "colab": {}
      },
      "source": [
        "trainset = datasets.ImageFolder(train_dir,transform = train_transform)\n",
        "validset = datasets.ImageFolder(valid_dir,transform = valid_transform)\n",
        "testset = datasets.ImageFolder(test_dir,transform = test_transfrom)"
      ],
      "execution_count": 18,
      "outputs": []
    },
    {
      "cell_type": "code",
      "metadata": {
        "id": "MZstF06WPP6e",
        "colab_type": "code",
        "colab": {}
      },
      "source": [
        "trainloader = DataLoader(trainset, batch_size = 64,shuffle = True)\n",
        "validloader = DataLoader(validset, batch_size = 64,shuffle = True)\n",
        "testloader = DataLoader(testset, batch_size = 64,shuffle = True)"
      ],
      "execution_count": 19,
      "outputs": []
    },
    {
      "cell_type": "code",
      "metadata": {
        "tags": [],
        "id": "HM25C9doPP6i",
        "colab_type": "code",
        "colab": {}
      },
      "source": [
        "model = models.vgg19_bn(pretrained=True)\n",
        "\n",
        "for param in model.parameters():\n",
        "    param.requires_grad = False\n",
        "\n",
        "\n",
        "\n",
        "\n",
        "classifier = nn.Sequential(OrderedDict([('fc1', nn.Linear(25088, 4096)),\n",
        "                                         ('relu', nn.ReLU()),\n",
        "                                         ('dropout',nn.Dropout(0.5)),\n",
        "                                         ('fc2', nn.Linear(4096, 4096)),\n",
        "                                         ('relu', nn.ReLU()),\n",
        "                                         ('drop', nn.Dropout(0.5)),\n",
        "                                         ('fc3', nn.Linear(4096, 3)), \n",
        "                                         ('output', nn.LogSoftmax(dim=1))]))\n",
        "\n",
        "model.classifier = classifier"
      ],
      "execution_count": 20,
      "outputs": []
    },
    {
      "cell_type": "code",
      "metadata": {
        "id": "rpjxnMpYPP6m",
        "colab_type": "code",
        "colab": {
          "base_uri": "https://localhost:8080/",
          "height": 1000
        },
        "outputId": "067605e2-5a07-4072-e53c-1609440cc6f8"
      },
      "source": [
        "model.load_state_dict(torch.load('/content/drive/My Drive/SkinCancerModelVGG19_bn.pt'))\n",
        "model.cuda()"
      ],
      "execution_count": 21,
      "outputs": [
        {
          "output_type": "execute_result",
          "data": {
            "text/plain": [
              "VGG(\n",
              "  (features): Sequential(\n",
              "    (0): Conv2d(3, 64, kernel_size=(3, 3), stride=(1, 1), padding=(1, 1))\n",
              "    (1): BatchNorm2d(64, eps=1e-05, momentum=0.1, affine=True, track_running_stats=True)\n",
              "    (2): ReLU(inplace=True)\n",
              "    (3): Conv2d(64, 64, kernel_size=(3, 3), stride=(1, 1), padding=(1, 1))\n",
              "    (4): BatchNorm2d(64, eps=1e-05, momentum=0.1, affine=True, track_running_stats=True)\n",
              "    (5): ReLU(inplace=True)\n",
              "    (6): MaxPool2d(kernel_size=2, stride=2, padding=0, dilation=1, ceil_mode=False)\n",
              "    (7): Conv2d(64, 128, kernel_size=(3, 3), stride=(1, 1), padding=(1, 1))\n",
              "    (8): BatchNorm2d(128, eps=1e-05, momentum=0.1, affine=True, track_running_stats=True)\n",
              "    (9): ReLU(inplace=True)\n",
              "    (10): Conv2d(128, 128, kernel_size=(3, 3), stride=(1, 1), padding=(1, 1))\n",
              "    (11): BatchNorm2d(128, eps=1e-05, momentum=0.1, affine=True, track_running_stats=True)\n",
              "    (12): ReLU(inplace=True)\n",
              "    (13): MaxPool2d(kernel_size=2, stride=2, padding=0, dilation=1, ceil_mode=False)\n",
              "    (14): Conv2d(128, 256, kernel_size=(3, 3), stride=(1, 1), padding=(1, 1))\n",
              "    (15): BatchNorm2d(256, eps=1e-05, momentum=0.1, affine=True, track_running_stats=True)\n",
              "    (16): ReLU(inplace=True)\n",
              "    (17): Conv2d(256, 256, kernel_size=(3, 3), stride=(1, 1), padding=(1, 1))\n",
              "    (18): BatchNorm2d(256, eps=1e-05, momentum=0.1, affine=True, track_running_stats=True)\n",
              "    (19): ReLU(inplace=True)\n",
              "    (20): Conv2d(256, 256, kernel_size=(3, 3), stride=(1, 1), padding=(1, 1))\n",
              "    (21): BatchNorm2d(256, eps=1e-05, momentum=0.1, affine=True, track_running_stats=True)\n",
              "    (22): ReLU(inplace=True)\n",
              "    (23): Conv2d(256, 256, kernel_size=(3, 3), stride=(1, 1), padding=(1, 1))\n",
              "    (24): BatchNorm2d(256, eps=1e-05, momentum=0.1, affine=True, track_running_stats=True)\n",
              "    (25): ReLU(inplace=True)\n",
              "    (26): MaxPool2d(kernel_size=2, stride=2, padding=0, dilation=1, ceil_mode=False)\n",
              "    (27): Conv2d(256, 512, kernel_size=(3, 3), stride=(1, 1), padding=(1, 1))\n",
              "    (28): BatchNorm2d(512, eps=1e-05, momentum=0.1, affine=True, track_running_stats=True)\n",
              "    (29): ReLU(inplace=True)\n",
              "    (30): Conv2d(512, 512, kernel_size=(3, 3), stride=(1, 1), padding=(1, 1))\n",
              "    (31): BatchNorm2d(512, eps=1e-05, momentum=0.1, affine=True, track_running_stats=True)\n",
              "    (32): ReLU(inplace=True)\n",
              "    (33): Conv2d(512, 512, kernel_size=(3, 3), stride=(1, 1), padding=(1, 1))\n",
              "    (34): BatchNorm2d(512, eps=1e-05, momentum=0.1, affine=True, track_running_stats=True)\n",
              "    (35): ReLU(inplace=True)\n",
              "    (36): Conv2d(512, 512, kernel_size=(3, 3), stride=(1, 1), padding=(1, 1))\n",
              "    (37): BatchNorm2d(512, eps=1e-05, momentum=0.1, affine=True, track_running_stats=True)\n",
              "    (38): ReLU(inplace=True)\n",
              "    (39): MaxPool2d(kernel_size=2, stride=2, padding=0, dilation=1, ceil_mode=False)\n",
              "    (40): Conv2d(512, 512, kernel_size=(3, 3), stride=(1, 1), padding=(1, 1))\n",
              "    (41): BatchNorm2d(512, eps=1e-05, momentum=0.1, affine=True, track_running_stats=True)\n",
              "    (42): ReLU(inplace=True)\n",
              "    (43): Conv2d(512, 512, kernel_size=(3, 3), stride=(1, 1), padding=(1, 1))\n",
              "    (44): BatchNorm2d(512, eps=1e-05, momentum=0.1, affine=True, track_running_stats=True)\n",
              "    (45): ReLU(inplace=True)\n",
              "    (46): Conv2d(512, 512, kernel_size=(3, 3), stride=(1, 1), padding=(1, 1))\n",
              "    (47): BatchNorm2d(512, eps=1e-05, momentum=0.1, affine=True, track_running_stats=True)\n",
              "    (48): ReLU(inplace=True)\n",
              "    (49): Conv2d(512, 512, kernel_size=(3, 3), stride=(1, 1), padding=(1, 1))\n",
              "    (50): BatchNorm2d(512, eps=1e-05, momentum=0.1, affine=True, track_running_stats=True)\n",
              "    (51): ReLU(inplace=True)\n",
              "    (52): MaxPool2d(kernel_size=2, stride=2, padding=0, dilation=1, ceil_mode=False)\n",
              "  )\n",
              "  (avgpool): AdaptiveAvgPool2d(output_size=(7, 7))\n",
              "  (classifier): Sequential(\n",
              "    (fc1): Linear(in_features=25088, out_features=4096, bias=True)\n",
              "    (relu): ReLU()\n",
              "    (dropout): Dropout(p=0.5, inplace=False)\n",
              "    (fc2): Linear(in_features=4096, out_features=4096, bias=True)\n",
              "    (drop): Dropout(p=0.5, inplace=False)\n",
              "    (fc3): Linear(in_features=4096, out_features=3, bias=True)\n",
              "    (output): LogSoftmax(dim=1)\n",
              "  )\n",
              ")"
            ]
          },
          "metadata": {
            "tags": []
          },
          "execution_count": 21
        }
      ]
    },
    {
      "cell_type": "code",
      "metadata": {
        "id": "msCSIqfEeJd3",
        "colab_type": "code",
        "colab": {}
      },
      "source": [
        "criterion = nn.NLLLoss()"
      ],
      "execution_count": 22,
      "outputs": []
    },
    {
      "cell_type": "code",
      "metadata": {
        "tags": [],
        "id": "Mxysic-aPP6s",
        "colab_type": "code",
        "colab": {
          "base_uri": "https://localhost:8080/",
          "height": 235
        },
        "outputId": "1c1e82b4-785b-40b8-e15d-a4a9e72cb430"
      },
      "source": [
        "model.eval()\n",
        "train_acc = 0 \n",
        "valid_acc = 0 \n",
        "test_acc = 0 \n",
        "test_loss = 0 \n",
        "train_loss = 0\n",
        "val_loss = 0\n",
        "\n",
        "for images,labels in trainloader:\n",
        "  images = images.cuda()\n",
        "  labels = labels.cuda()\n",
        "  logps = model(images)\n",
        "  loss = criterion(logps,labels)\n",
        "  train_loss += loss.item()*images.size(0)\n",
        "  ps = torch.exp(logps)\n",
        "  top_p, top_class = ps.topk(1, dim = 1)\n",
        "  T_equals = top_class == labels.view(*top_class.shape)\n",
        "  train_acc += torch.mean(T_equals.type(torch.FloatTensor))\n",
        "\n",
        "for images,labels in validloader:\n",
        "  images = images.cuda()\n",
        "  labels = labels.cuda()\n",
        "  logps = model(images)\n",
        "  loss = criterion(logps,labels)\n",
        "  val_loss += loss.item()*images.size(0)\n",
        "  ps = torch.exp(logps)\n",
        "  top_p,top_class = ps.topk(1, dim = 1)\n",
        "  V_equals = top_class == labels.view(*top_class.shape)\n",
        "  valid_acc += torch.mean(V_equals.type(torch.FloatTensor))\n",
        "\n",
        "for images,labels in testloader:\n",
        "  images = images.cuda()\n",
        "  labels = labels.cuda()\n",
        "  logps = model(images)\n",
        "  loss = criterion(logps,labels)\n",
        "  test_loss += loss.item()*images.size(0)\n",
        "  ps = torch.exp(logps)\n",
        "  top_p,top_class = ps.topk(1, dim = 1)\n",
        "  t_equals = top_class == labels.view(*top_class.shape)\n",
        "  test_acc += torch.mean(t_equals.type(torch.FloatTensor))\n",
        "\n",
        "print(\"Overall Training Accuracy : {}\\n\".format(train_acc/len(trainloader)))\n",
        "print(\"Overall Validation Accuracy : {}\\n\".format(valid_acc/len(validloader)))\n",
        "print(\"Overall Test Accuracy : {}\\n\".format(test_acc/len(testloader)))\n",
        "print(\"Overall Train Loss : {}\\n\".format(train_loss/len(trainloader.dataset)))\n",
        "print(\"Overall Valid Loss : {}\\n\".format(val_loss/len(validloader.dataset)))\n",
        "print(\"Overall Test Loss : {}\\n\".format(test_loss/len(testloader.dataset)))"
      ],
      "execution_count": 23,
      "outputs": [
        {
          "output_type": "stream",
          "text": [
            "Overall Training Accuracy : 0.9130859375\n",
            "\n",
            "Overall Validation Accuracy : 0.7263257503509521\n",
            "\n",
            "Overall Test Accuracy : 0.7072916626930237\n",
            "\n",
            "Overall Train Loss : 0.2823573727607727\n",
            "\n",
            "Overall Valid Loss : 0.6986135979493459\n",
            "\n",
            "Overall Test Loss : 0.724037725130717\n",
            "\n"
          ],
          "name": "stdout"
        }
      ]
    },
    {
      "cell_type": "code",
      "metadata": {
        "id": "Do1h0AxNezTJ",
        "colab_type": "code",
        "colab": {}
      },
      "source": [
        " "
      ],
      "execution_count": null,
      "outputs": []
    }
  ]
}